{
 "cells": [
  {
   "cell_type": "markdown",
   "metadata": {},
   "source": [
    "# Assignment 1 IRS"
   ]
  },
  {
   "cell_type": "markdown",
   "metadata": {},
   "source": [
    "Information retrieval is the process of obtaining information system resources that are relevant to an information need from a collection of those resources. The core purpose of this assignment is to give you the flavor of IRS. You need to follow some steps listed below and in the end, you'll be able to build your own small IRS. So, let's start."
   ]
  },
  {
   "cell_type": "code",
   "execution_count": null,
   "metadata": {},
   "outputs": [],
   "source": [
    "# required imports\n",
    "import numpy as np\n",
    "import fnmatch\n",
    "import os\n"
   ]
  },
  {
   "cell_type": "markdown",
   "metadata": {},
   "source": [
    "# Step 1 Create Files with Dummy data"
   ]
  },
  {
   "cell_type": "code",
   "execution_count": null,
   "metadata": {},
   "outputs": [],
   "source": [
    "#for i in range(10):\n",
    "    #fn = \"file_\" + str((i+1)) +\".txt\"\n",
    "    #f = open(fn,'w')"
   ]
  },
  {
   "cell_type": "markdown",
   "metadata": {},
   "source": [
    "# Step 2 Traverse Directories"
   ]
  },
  {
   "cell_type": "markdown",
   "metadata": {},
   "source": [
    " Now, You have to traverse the directories and store all the files into a dict type variable(files_dict). "
   ]
  },
  {
   "cell_type": "code",
   "execution_count": null,
   "metadata": {},
   "outputs": [],
   "source": [
    "# Here we have intialized some variables, you can add more if required.\n",
    "\n",
    "file_count = 10            # file_count to count number of files\n",
    "files_dict = {}             # files_dic to store count of every file    \n",
    "unique_word_set = set()     # unique_word_set to store all the unique words in a set\n"
   ]
  },
  {
   "cell_type": "code",
   "execution_count": null,
   "metadata": {},
   "outputs": [],
   "source": [
    "#Your code starts here   \n",
    "for i in range(file_count):\n",
    "    files_dict[\"file_\"+str(i+1)] = i\n",
    "    \n",
    "#Your code ends here       "
   ]
  },
  {
   "cell_type": "markdown",
   "metadata": {},
   "source": [
    "Displaying the count of files."
   ]
  },
  {
   "cell_type": "code",
   "execution_count": null,
   "metadata": {},
   "outputs": [],
   "source": [
    "print(\"\\nTotal Number  of files\\n\", file_count)"
   ]
  },
  {
   "cell_type": "markdown",
   "metadata": {},
   "source": [
    "Displaying Dictionary containing all files."
   ]
  },
  {
   "cell_type": "code",
   "execution_count": null,
   "metadata": {},
   "outputs": [],
   "source": [
    "print(\"\\nDictionary containing  files\\n\", files_dict)"
   ]
  },
  {
   "cell_type": "markdown",
   "metadata": {},
   "source": [
    "# Step 3 Extract Unique Vocabulary"
   ]
  },
  {
   "cell_type": "code",
   "execution_count": null,
   "metadata": {},
   "outputs": [],
   "source": [
    "# write code to print all the unique words in every file and store them in a set"
   ]
  },
  {
   "cell_type": "code",
   "execution_count": null,
   "metadata": {},
   "outputs": [],
   "source": [
    "#Your code starts here    \n",
    "for i in range(file_count):\n",
    "    f = open(\"Data/file_\"+str(i+1)+\".txt\",'r',encoding=\"utf8\")\n",
    "    unique_word_set.update(f.read().upper().split(\" \"))\n",
    "    \n",
    "for w in unique_word_set:\n",
    "    print(w)\n",
    "#Your code ends here"
   ]
  },
  {
   "cell_type": "markdown",
   "metadata": {},
   "source": [
    "# Step 4 Create Term Document Matrix"
   ]
  },
  {
   "cell_type": "markdown",
   "metadata": {},
   "source": [
    "Create Term-Doc-matrix using Bag of word approach.and display its contents initially and finally."
   ]
  },
  {
   "cell_type": "code",
   "execution_count": null,
   "metadata": {},
   "outputs": [],
   "source": [
    "# Create Term doc matrix such that colmns will be unique words and all the files will be rows\n",
    "# Write code to count all the unique words appearances in all the files and store it in a dictionary for words "
   ]
  },
  {
   "cell_type": "code",
   "execution_count": null,
   "metadata": {},
   "outputs": [],
   "source": [
    "#Your code starts here \n",
    "\n",
    "Term_Matrix = np.zeros((file_count,len(unique_word_set)))\n",
    "#print(Term_Matrix)\n",
    "\n",
    "dict_words = dict()\n",
    "\n",
    "for i in range(file_count):\n",
    "    fn = \"file_\" + str((i+1)) +\".txt\"\n",
    "    f = open(fn,'r',encoding=\"utf8\")\n",
    "    k = 1\n",
    "    for word in f.readline().upper().split():\n",
    "        if word in unique_word_set:\n",
    "           # print(word, end = \"\\t\")\n",
    "            dict_words[\"file_\"+str(i+1)] = k\n",
    "            k+=1\n",
    "\n",
    "#print(dict_words)\n",
    "#Your code ends here"
   ]
  },
  {
   "cell_type": "markdown",
   "metadata": {},
   "source": [
    "# Step 5 Fill Term Document Matrix"
   ]
  },
  {
   "cell_type": "code",
   "execution_count": null,
   "metadata": {},
   "outputs": [],
   "source": [
    "# Fill the term doc matrix by checking if the unique word exists in a file or not\n",
    "# If it exists then substitute a 1 in term_doc_matrix (eg : TERM_DOC_MATRIX[file][word] = 1 ) \n",
    "# Do the same for all the files present in the directory"
   ]
  },
  {
   "cell_type": "code",
   "execution_count": null,
   "metadata": {},
   "outputs": [],
   "source": [
    "#Your code starts here \n",
    "\n",
    "for i in range(file_count):\n",
    "    fn = \"file_\" + str((i+1)) +\".txt\"\n",
    "    f = open(fn,'r',encoding=\"utf8\")\n",
    "    k = 0\n",
    "    for word in f.readline().upper().split():\n",
    "        k = 0\n",
    "        for uw in unique_word_set:\n",
    "            if word == uw:\n",
    "                Term_Matrix[i][k] = 1\n",
    "            k +=1    \n",
    "\n",
    "for i in Term_Matrix:\n",
    "    print(i)\n",
    "\n",
    "    \n",
    "#Your code ends here"
   ]
  },
  {
   "cell_type": "markdown",
   "metadata": {},
   "source": [
    "# Step 6 Ask for a user Query"
   ]
  },
  {
   "cell_type": "code",
   "execution_count": null,
   "metadata": {},
   "outputs": [],
   "source": [
    "query = input(\"\\nWrite something for searching : \")\n",
    "# Check every word of query if it exists in the set of unique words or not\n",
    "# If exixts then increment the count of that word in word dictionary\n"
   ]
  },
  {
   "cell_type": "code",
   "execution_count": null,
   "metadata": {},
   "outputs": [],
   "source": [
    "#Your code starts here  \n",
    "\n",
    "Col_Vector = np.zeros((1,len(unique_word_set)))\n",
    "\n",
    "i = 0\n",
    "for word in query.upper().split(\" \"):\n",
    "    i = 0\n",
    "    for w in unique_word_set:\n",
    "        if word == w:\n",
    "            Col_Vector[0][i] = 1\n",
    "        i=i+1\n",
    "        \n",
    "        \n",
    "print(Col_Vector)\n",
    "\n",
    "\n",
    "#Your code ends here"
   ]
  },
  {
   "cell_type": "markdown",
   "metadata": {},
   "source": [
    "# Step 7 Display Resultant Vector"
   ]
  },
  {
   "cell_type": "markdown",
   "metadata": {},
   "source": [
    "Display \n",
    "1. Resultant vector.\n",
    "2. Max value in resultant vector.\n",
    "3. Index of max value in resultant vector.\n"
   ]
  },
  {
   "cell_type": "code",
   "execution_count": null,
   "metadata": {},
   "outputs": [],
   "source": [
    "#Your code starts here \n",
    "flag = True\n",
    "\n",
    "result = np.dot(Term_Matrix,np.transpose(Col_Vector))\n",
    "\n",
    "print(\"RESULTANT VECTOR\\n\",result)\n",
    "print(\"Maximum value : \",np.amax(result))\n",
    "\n",
    "index = np.where(result == np.amax(result))\n",
    "print(\"Is at Index : \",str(index[0][0]))\n",
    "\n",
    "if np.amax(result) == 0:\n",
    "    flag = False\n",
    "\n",
    "#Your code ends here"
   ]
  },
  {
   "cell_type": "markdown",
   "metadata": {},
   "source": [
    "# Step 8 Display the contents of file\n"
   ]
  },
  {
   "cell_type": "code",
   "execution_count": null,
   "metadata": {},
   "outputs": [],
   "source": [
    "#Write the code to identify the file_name having maximum value in the resultant vector and display its contents.\n",
    "\n",
    "#Your code starts here    \n",
    "\n",
    "if flag == False:\n",
    "    print(\"No file with such query Found \")\n",
    "\n",
    "else:    \n",
    "    filename = \"file_\" + str(index[0][0]+1) + \".txt\"\n",
    "\n",
    "    print(filename)\n",
    "\n",
    "    f = open(filename, 'r')\n",
    "    print(f.read())\n",
    "\n",
    "#Your code ends here"
   ]
  }
 ],
 "metadata": {
  "kernelspec": {
   "display_name": "Python 3",
   "language": "python",
   "name": "python3"
  },
  "language_info": {
   "codemirror_mode": {
    "name": "ipython",
    "version": 3
   },
   "file_extension": ".py",
   "mimetype": "text/x-python",
   "name": "python",
   "nbconvert_exporter": "python",
   "pygments_lexer": "ipython3",
   "version": "3.8.8"
  }
 },
 "nbformat": 4,
 "nbformat_minor": 4
}
